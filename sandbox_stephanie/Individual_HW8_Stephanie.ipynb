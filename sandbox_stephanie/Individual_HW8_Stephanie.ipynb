{
  "nbformat": 4,
  "nbformat_minor": 0,
  "metadata": {
    "colab": {
      "name": "Individual_HW8_Stephanie",
      "provenance": [],
      "collapsed_sections": [],
      "toc_visible": true,
      "include_colab_link": true
    },
    "kernelspec": {
      "name": "python3",
      "display_name": "Python 3"
    },
    "language_info": {
      "name": "python"
    }
  },
  "cells": [
    {
      "cell_type": "markdown",
      "metadata": {
        "id": "view-in-github",
        "colab_type": "text"
      },
      "source": [
        "<a href=\"https://colab.research.google.com/github/semorrall/colab_uploads/blob/main/sandbox_stephanie/Individual_HW8_Stephanie.ipynb\" target=\"_parent\"><img src=\"https://colab.research.google.com/assets/colab-badge.svg\" alt=\"Open In Colab\"/></a>"
      ]
    },
    {
      "cell_type": "code",
      "execution_count": 13,
      "metadata": {
        "id": "CztKdcBW7uIg"
      },
      "outputs": [],
      "source": [
        "import pandas as pd\n",
        "import numpy as np\n",
        "import random \n",
        "import matplotlib.pyplot as plt\n",
        "import seaborn as sns\n",
        "sns.set()"
      ]
    },
    {
      "cell_type": "code",
      "source": [
        "frog1 = np.array([1205, 2527, 1745, 1556,  493, 2276,  556, 1928, 2641, 1897, 1891,\n",
        "       1545, 1307, 1692, 1543, 1282,  775, 2032, 1240,  473])\n",
        "frog2 = np.array([1612,  605,  327,  946,  541, 1539,  529,  628, 1453,  297,  703,\n",
        "        269,  751,  245, 1182,  515,  435,  383,  457,  730])\n",
        "frog3 = np.array([614, 414, 324, 776, 611, 544, 538, 579, 806, 459, 458, 626, 621,\n",
        "       544, 535, 385, 401, 614, 665, 488])\n",
        "frog4 = np.array([172, 142,  37, 453, 355,  22, 502, 273, 720, 582, 198, 198, 597,\n",
        "       516, 815, 402, 605, 711, 614, 468])"
      ],
      "metadata": {
        "id": "f7yLpHx4727c"
      },
      "execution_count": 14,
      "outputs": []
    },
    {
      "cell_type": "code",
      "source": [
        "frog_diff = frog2.mean() - frog3.mean()\n",
        "frog_diff"
      ],
      "metadata": {
        "colab": {
          "base_uri": "https://localhost:8080/"
        },
        "id": "VQcirp8t9PS6",
        "outputId": "6d75c22f-4e76-4ccb-b313-3384b5c77dc7"
      },
      "execution_count": 15,
      "outputs": [
        {
          "output_type": "execute_result",
          "data": {
            "text/plain": [
              "157.25"
            ]
          },
          "metadata": {},
          "execution_count": 15
        }
      ]
    },
    {
      "cell_type": "code",
      "source": [
        "def ecdf(data):\n",
        "  \"\"\"Generate x and y values for plotting an ECDF.\"\"\"\n",
        "  x_vals = np.sort(data)\n",
        "  y_vals = np.arange(1, len(data)+1) / len(data)\n",
        "  \n",
        "  return x_vals, y_vals"
      ],
      "metadata": {
        "id": "0oTDkgvLB07j"
      },
      "execution_count": 16,
      "outputs": []
    },
    {
      "cell_type": "markdown",
      "source": [
        "## Hypothesis test 1: Do frog 2 and frog 3 results come from the same distribution?\n",
        "\n",
        "Steps:\n",
        "\n",
        "- Combine results from frog 2 and frog 3\n",
        "- Use `np.random.permutation` to mix up the results\n",
        "- Have first 20 results be 'frog 2' and the last 20 results be 'frog 3' in your bootstrap samples\n",
        "- Compute some test statistic of interest (like difference of mean between frog 2 and frog 3)\n",
        "- Compare your 1,000 or 10,000 bootstrap replicates to the true difference seen in the data \n"
      ],
      "metadata": {
        "id": "Q7wJ65u98Wsc"
      }
    },
    {
      "cell_type": "code",
      "source": [
        "combined = np.concatenate((frog2,frog3))\n",
        "combined"
      ],
      "metadata": {
        "colab": {
          "base_uri": "https://localhost:8080/"
        },
        "id": "15QHa-TI8GXd",
        "outputId": "7eeff8c9-ea99-4e02-ab57-048e6ee5492f"
      },
      "execution_count": 17,
      "outputs": [
        {
          "output_type": "execute_result",
          "data": {
            "text/plain": [
              "array([1612,  605,  327,  946,  541, 1539,  529,  628, 1453,  297,  703,\n",
              "        269,  751,  245, 1182,  515,  435,  383,  457,  730,  614,  414,\n",
              "        324,  776,  611,  544,  538,  579,  806,  459,  458,  626,  621,\n",
              "        544,  535,  385,  401,  614,  665,  488])"
            ]
          },
          "metadata": {},
          "execution_count": 17
        }
      ]
    },
    {
      "cell_type": "code",
      "source": [
        "np.random.permutation(combined)"
      ],
      "metadata": {
        "colab": {
          "base_uri": "https://localhost:8080/"
        },
        "id": "5qpYjm1IODep",
        "outputId": "e03d77d5-ea44-40a6-9443-ea97cc6c3b66"
      },
      "execution_count": 18,
      "outputs": [
        {
          "output_type": "execute_result",
          "data": {
            "text/plain": [
              "array([ 703,  751,  611,  806,  385,  614,  621,  614,  297,  544,  529,\n",
              "        535, 1453,  776,  579,  628,  324,  515,  538,  946,  458,  605,\n",
              "        544,  541, 1612,  327,  457,  665,  730, 1182,  401,  383,  414,\n",
              "        245,  459,  488,  269,  626, 1539,  435])"
            ]
          },
          "metadata": {},
          "execution_count": 18
        }
      ]
    },
    {
      "cell_type": "code",
      "source": [
        "num_reps = 10000\n",
        "\n",
        "bs_rep = np.zeros(num_reps)\n",
        "xtreme_counter = 0\n",
        "\n",
        "for i in range(num_reps):\n",
        "\n",
        "  perm = np.random.permutation(combined)\n",
        "  frogA_samp = perm[:20]\n",
        "  frogB_samp = perm[20:]\n",
        "  diff = frogA_samp.mean() - frogB_samp.mean()\n",
        "\n",
        "  if np.abs(diff) >= frog_diff :\n",
        "    xtreme_counter += 1\n",
        "\n",
        "  bs_rep[i] = diff\n",
        "\n",
        "  p_value = xtreme_counter / num_reps\n"
      ],
      "metadata": {
        "id": "VszfNrj4FRsJ"
      },
      "execution_count": 19,
      "outputs": []
    },
    {
      "cell_type": "code",
      "source": [
        "p_value"
      ],
      "metadata": {
        "colab": {
          "base_uri": "https://localhost:8080/"
        },
        "id": "z1Trnq5XjvJ6",
        "outputId": "852734cc-1b1d-491d-8d1d-176c97b73847"
      },
      "execution_count": 21,
      "outputs": [
        {
          "output_type": "execute_result",
          "data": {
            "text/plain": [
              "0.1272"
            ]
          },
          "metadata": {},
          "execution_count": 21
        }
      ]
    },
    {
      "cell_type": "code",
      "source": [
        "bs_rep"
      ],
      "metadata": {
        "colab": {
          "base_uri": "https://localhost:8080/"
        },
        "id": "gzsXXGJjhJpA",
        "outputId": "548972ef-088d-4544-c911-0d21151ccb9f"
      },
      "execution_count": null,
      "outputs": [
        {
          "output_type": "execute_result",
          "data": {
            "text/plain": [
              "array([ -74.65,  204.55,  115.35, ...,   14.75, -108.05,  160.35])"
            ]
          },
          "metadata": {},
          "execution_count": 10
        }
      ]
    },
    {
      "cell_type": "code",
      "source": [
        "frog_diff"
      ],
      "metadata": {
        "colab": {
          "base_uri": "https://localhost:8080/"
        },
        "id": "nCtDhW2Hi9On",
        "outputId": "90c8a606-3ff8-486b-b7f4-24f86a0a415f"
      },
      "execution_count": null,
      "outputs": [
        {
          "output_type": "execute_result",
          "data": {
            "text/plain": [
              "157.25"
            ]
          },
          "metadata": {},
          "execution_count": 11
        }
      ]
    },
    {
      "cell_type": "code",
      "source": [
        "x,y = ecdf(bs_rep)\n",
        "\n",
        "plt.plot(x,y)"
      ],
      "metadata": {
        "colab": {
          "base_uri": "https://localhost:8080/",
          "height": 285
        },
        "id": "47TZvMdTRvWx",
        "outputId": "0a149efc-7ae7-448d-f5da-bf070c77e904"
      },
      "execution_count": null,
      "outputs": [
        {
          "output_type": "execute_result",
          "data": {
            "text/plain": [
              "[<matplotlib.lines.Line2D at 0x7f89de0963d0>]"
            ]
          },
          "metadata": {},
          "execution_count": 12
        },
        {
          "output_type": "display_data",
          "data": {
            "text/plain": [
              "<Figure size 432x288 with 1 Axes>"
            ],
            "image/png": "[encoded data removed]"
          },
          "metadata": {
            "needs_background": "light"
          }
        }
      ]
    },
    {
      "cell_type": "markdown",
      "source": [
        "## Hypothesis test 2: Do frog 1 and frog 4 have the same mean?\n",
        "\n",
        "Steps:\n",
        "- Compute the mean of frog 1 and frog 4 together\n",
        "- Get shifted values for the frogs, where frog 1 will be shifted down and frog 4 will be shifted up. These shifted values should now have the same mean.\n",
        "- Conduct your bootstrap replicates on these shifted data. For each replicate, get a mean for frog 1 and frog 4 in these shifted data and record their difference"
      ],
      "metadata": {
        "id": "awbNDu2P8i0a"
      }
    },
    {
      "cell_type": "code",
      "source": [
        "# this might help! how to sample *with* replacement\n",
        "np.random.choice(frog1, size=20, replace=True)"
      ],
      "metadata": {
        "colab": {
          "base_uri": "https://localhost:8080/"
        },
        "id": "HC8wBOC_8o-3",
        "outputId": "01e7cfe0-6448-4c5c-f482-a8e94efb843c"
      },
      "execution_count": null,
      "outputs": [
        {
          "output_type": "execute_result",
          "data": {
            "text/plain": [
              "array([1543, 1205,  775, 1556, 2276, 1556, 1897,  493,  775, 1282, 1745,\n",
              "       1307, 2527, 1692, 2641,  493, 1240, 1745, 1543, 1891])"
            ]
          },
          "metadata": {},
          "execution_count": 19
        }
      ]
    },
    {
      "cell_type": "code",
      "source": [
        "frog1_mean = frog1.mean()\n",
        "frog1_mean"
      ],
      "metadata": {
        "colab": {
          "base_uri": "https://localhost:8080/"
        },
        "id": "mNz7T7fNnEVc",
        "outputId": "14701630-5703-4dbf-916c-a06521673b67"
      },
      "execution_count": null,
      "outputs": [
        {
          "output_type": "execute_result",
          "data": {
            "text/plain": [
              "1530.2"
            ]
          },
          "metadata": {},
          "execution_count": 20
        }
      ]
    },
    {
      "cell_type": "code",
      "source": [
        "frog4_mean = frog4.mean()\n",
        "frog4_mean"
      ],
      "metadata": {
        "colab": {
          "base_uri": "https://localhost:8080/"
        },
        "id": "jfyr14CDnLuh",
        "outputId": "29cd67ff-450d-46b7-d537-6ab39b9cab28"
      },
      "execution_count": null,
      "outputs": [
        {
          "output_type": "execute_result",
          "data": {
            "text/plain": [
              "419.1"
            ]
          },
          "metadata": {},
          "execution_count": 21
        }
      ]
    },
    {
      "cell_type": "code",
      "source": [
        "total_mean = (frog2.mean() + frog3.mean())/2\n",
        "total_mean"
      ],
      "metadata": {
        "colab": {
          "base_uri": "https://localhost:8080/"
        },
        "id": "oIXhDYkOncuq",
        "outputId": "cc07cf06-47b6-4947-94b3-63b3d44f179b"
      },
      "execution_count": null,
      "outputs": [
        {
          "output_type": "execute_result",
          "data": {
            "text/plain": [
              "628.725"
            ]
          },
          "metadata": {},
          "execution_count": 22
        }
      ]
    },
    {
      "cell_type": "code",
      "source": [
        "frog1_shifted = frog1 - frog1_mean + total_mean\n",
        "frog1_shifted"
      ],
      "metadata": {
        "colab": {
          "base_uri": "https://localhost:8080/"
        },
        "id": "Og2_o8g4nu4j",
        "outputId": "20badbde-dc20-447d-f371-8867e5920197"
      },
      "execution_count": null,
      "outputs": [
        {
          "output_type": "execute_result",
          "data": {
            "text/plain": [
              "array([ 303.525, 1625.525,  843.525,  654.525, -408.475, 1374.525,\n",
              "       -345.475, 1026.525, 1739.525,  995.525,  989.525,  643.525,\n",
              "        405.525,  790.525,  641.525,  380.525, -126.475, 1130.525,\n",
              "        338.525, -428.475])"
            ]
          },
          "metadata": {},
          "execution_count": 25
        }
      ]
    },
    {
      "cell_type": "code",
      "source": [
        "frog4_shifted = frog4 - frog4_mean + total_mean\n",
        "frog4_shifted"
      ],
      "metadata": {
        "colab": {
          "base_uri": "https://localhost:8080/"
        },
        "id": "b_mVIoD1oE1w",
        "outputId": "aa226c59-fe77-4695-d5ff-b6f5ff41e31f"
      },
      "execution_count": null,
      "outputs": [
        {
          "output_type": "execute_result",
          "data": {
            "text/plain": [
              "array([ 381.625,  351.625,  246.625,  662.625,  564.625,  231.625,\n",
              "        711.625,  482.625,  929.625,  791.625,  407.625,  407.625,\n",
              "        806.625,  725.625, 1024.625,  611.625,  814.625,  920.625,\n",
              "        823.625,  677.625])"
            ]
          },
          "metadata": {},
          "execution_count": 26
        }
      ]
    },
    {
      "cell_type": "code",
      "source": [
        "frog4"
      ],
      "metadata": {
        "colab": {
          "base_uri": "https://localhost:8080/"
        },
        "id": "FbsepjoUoIM1",
        "outputId": "9b445bdd-4e62-4807-bb3a-34eaca02a972"
      },
      "execution_count": null,
      "outputs": [
        {
          "output_type": "execute_result",
          "data": {
            "text/plain": [
              "array([172, 142,  37, 453, 355,  22, 502, 273, 720, 582, 198, 198, 597,\n",
              "       516, 815, 402, 605, 711, 614, 468])"
            ]
          },
          "metadata": {},
          "execution_count": 27
        }
      ]
    },
    {
      "cell_type": "code",
      "source": [
        "frog_diff = frog1.mean() - frog4.mean()\n",
        "frog_diff"
      ],
      "metadata": {
        "id": "vuqmxVqLFC2z",
        "colab": {
          "base_uri": "https://localhost:8080/"
        },
        "outputId": "ede0cd3a-1db9-4ad9-a4cd-b25177aeada1"
      },
      "execution_count": null,
      "outputs": [
        {
          "output_type": "execute_result",
          "data": {
            "text/plain": [
              "1111.1"
            ]
          },
          "metadata": {},
          "execution_count": 28
        }
      ]
    },
    {
      "cell_type": "code",
      "source": [
        "np.random.choice(frog1, size=20, replace=True)"
      ],
      "metadata": {
        "colab": {
          "base_uri": "https://localhost:8080/"
        },
        "id": "5lmsFHx7ohbn",
        "outputId": "06d13ca0-42e4-45ac-fdfb-da3de5a9ea7f"
      },
      "execution_count": null,
      "outputs": [
        {
          "output_type": "execute_result",
          "data": {
            "text/plain": [
              "array([ 556, 1928, 1205,  556,  556, 1692, 2276, 1282, 1307, 2032, 1891,\n",
              "       1891, 1692,  493, 1282, 1891, 1543, 1897, 1307, 1692])"
            ]
          },
          "metadata": {},
          "execution_count": 29
        }
      ]
    },
    {
      "cell_type": "code",
      "source": [
        "num_reps = 10000\n",
        "\n",
        "bs_rep = np.zeros(num_reps)\n",
        "xtreme_counter = 0\n",
        "\n",
        "for i in range(num_reps):\n",
        "\n",
        "  frogA_samp = np.random.choice(frog1_shifted, size=20, replace=True)\n",
        "  frogB_samp = np.random.choice(frog4_shifted, size=20, replace=True)\n",
        "  diff = frogA_samp.mean() - frogB_samp.mean()\n",
        "\n",
        "  if np.abs(diff) >= frog_diff :\n",
        "    xtreme_counter += 1\n",
        "\n",
        "  bs_rep[i] = diff\n",
        "\n",
        "p_value = xtreme_counter / num_reps"
      ],
      "metadata": {
        "id": "p3j2OAeGmcQ1"
      },
      "execution_count": null,
      "outputs": []
    },
    {
      "cell_type": "code",
      "source": [
        "p_value"
      ],
      "metadata": {
        "colab": {
          "base_uri": "https://localhost:8080/"
        },
        "id": "NdknnHOio3C9",
        "outputId": "71bae6d5-57ae-4c92-e2e1-f1f91c3bed61"
      },
      "execution_count": null,
      "outputs": [
        {
          "output_type": "execute_result",
          "data": {
            "text/plain": [
              "0.0"
            ]
          },
          "metadata": {},
          "execution_count": 31
        }
      ]
    },
    {
      "cell_type": "markdown",
      "source": [
        "#Individual HW 8"
      ],
      "metadata": {
        "id": "6k__2p_989Xr"
      }
    },
    {
      "cell_type": "code",
      "source": [
        "def permutation_p_value_distribution(data1, data2, num_reps= 10000):\n",
        "\n",
        "  mean_diff = data1.mean() - data2.mean()\n",
        "  combined = np.concatenate((data1,data2))\n",
        "\n",
        "  bs_rep = np.zeros(num_reps)\n",
        "  xtreme_counter = 0\n",
        "\n",
        "  for i in range(num_reps):\n",
        "\n",
        "    perm = np.random.permutation(combined)\n",
        "    A_samp = perm[:len(data1)]\n",
        "    B_samp = perm[len(data2):]\n",
        "    diff = A_samp.mean() - B_samp.mean()\n",
        "\n",
        "    if np.abs(diff) >= mean_diff :\n",
        "      xtreme_counter += 1\n",
        "\n",
        "    bs_rep[i] = diff\n",
        "\n",
        "  p_value = xtreme_counter / num_reps\n",
        "\n",
        "  return p_value"
      ],
      "metadata": {
        "id": "X8g8RB5Ho5xV"
      },
      "execution_count": 32,
      "outputs": []
    },
    {
      "cell_type": "code",
      "source": [
        "permutation_p_value_distribution(frog2 ,frog3)"
      ],
      "metadata": {
        "colab": {
          "base_uri": "https://localhost:8080/"
        },
        "id": "SnsypPZH9D7E",
        "outputId": "ff880462-c792-43b7-c24e-a66926ba9f60"
      },
      "execution_count": 23,
      "outputs": [
        {
          "output_type": "execute_result",
          "data": {
            "text/plain": [
              "0.1243"
            ]
          },
          "metadata": {},
          "execution_count": 23
        }
      ]
    },
    {
      "cell_type": "markdown",
      "source": [
        "This is a two tailed test on the difference of means of two data sets. My null hypothesis is that there is no difference in the means of the two data sets. \n",
        "\n"
      ],
      "metadata": {
        "id": "7TaotlJCBWbM"
      }
    },
    {
      "cell_type": "code",
      "source": [
        "permutation_p_value_distribution(frog1 ,frog2)"
      ],
      "metadata": {
        "colab": {
          "base_uri": "https://localhost:8080/"
        },
        "id": "RPPuk6d1C1U3",
        "outputId": "a260339f-416e-44ad-e06e-9f7aec7f0bae"
      },
      "execution_count": 33,
      "outputs": [
        {
          "output_type": "execute_result",
          "data": {
            "text/plain": [
              "0.0001"
            ]
          },
          "metadata": {},
          "execution_count": 33
        }
      ]
    },
    {
      "cell_type": "code",
      "source": [
        "permutation_p_value_distribution(frog1 ,frog3)"
      ],
      "metadata": {
        "colab": {
          "base_uri": "https://localhost:8080/"
        },
        "id": "zYw_PNGBC4kR",
        "outputId": "92c8c3db-3b58-4e14-92d7-3bc7cf2a3a65"
      },
      "execution_count": 34,
      "outputs": [
        {
          "output_type": "execute_result",
          "data": {
            "text/plain": [
              "0.0"
            ]
          },
          "metadata": {},
          "execution_count": 34
        }
      ]
    },
    {
      "cell_type": "code",
      "source": [
        "permutation_p_value_distribution(frog1 ,frog3)"
      ],
      "metadata": {
        "colab": {
          "base_uri": "https://localhost:8080/"
        },
        "id": "NGMo1gFrC5PJ",
        "outputId": "ab14db43-46e4-41bf-f919-2ca52bbed20c"
      },
      "execution_count": 35,
      "outputs": [
        {
          "output_type": "execute_result",
          "data": {
            "text/plain": [
              "0.0"
            ]
          },
          "metadata": {},
          "execution_count": 35
        }
      ]
    },
    {
      "cell_type": "code",
      "source": [
        "permutation_p_value_distribution(frog1 ,frog4)"
      ],
      "metadata": {
        "colab": {
          "base_uri": "https://localhost:8080/"
        },
        "id": "fEJb33WgC5vo",
        "outputId": "89507a45-b228-4737-f93b-a32ff97a72fe"
      },
      "execution_count": 36,
      "outputs": [
        {
          "output_type": "execute_result",
          "data": {
            "text/plain": [
              "0.0"
            ]
          },
          "metadata": {},
          "execution_count": 36
        }
      ]
    },
    {
      "cell_type": "code",
      "source": [
        "permutation_p_value_distribution(frog2 ,frog3)"
      ],
      "metadata": {
        "colab": {
          "base_uri": "https://localhost:8080/"
        },
        "id": "dUjimJcfC6W0",
        "outputId": "387d5572-5baa-4fbf-f67f-b14519205250"
      },
      "execution_count": 37,
      "outputs": [
        {
          "output_type": "execute_result",
          "data": {
            "text/plain": [
              "0.1214"
            ]
          },
          "metadata": {},
          "execution_count": 37
        }
      ]
    },
    {
      "cell_type": "code",
      "source": [
        "permutation_p_value_distribution(frog2 ,frog4)"
      ],
      "metadata": {
        "colab": {
          "base_uri": "https://localhost:8080/"
        },
        "id": "39oRPwpaDFrr",
        "outputId": "0c6dbca0-9ed9-40cd-c4c6-6f602ac9073a"
      },
      "execution_count": 38,
      "outputs": [
        {
          "output_type": "execute_result",
          "data": {
            "text/plain": [
              "0.0101"
            ]
          },
          "metadata": {},
          "execution_count": 38
        }
      ]
    },
    {
      "cell_type": "code",
      "source": [
        "permutation_p_value_distribution(frog3 ,frog4)"
      ],
      "metadata": {
        "colab": {
          "base_uri": "https://localhost:8080/"
        },
        "id": "4uLW1HbnDHDS",
        "outputId": "c1e14800-fc81-4c6f-ee80-16c694cbefd2"
      },
      "execution_count": 39,
      "outputs": [
        {
          "output_type": "execute_result",
          "data": {
            "text/plain": [
              "0.0348"
            ]
          },
          "metadata": {},
          "execution_count": 39
        }
      ]
    },
    {
      "cell_type": "markdown",
      "source": [
        "I only failed to reget the null hypothesis (if alpha is 0.05 and 10,000 permutations are preformed) for frog2 vs frog3. For all other pair wise sets, I regected the null hypothesis. "
      ],
      "metadata": {
        "id": "p_rpYJ9xDby7"
      }
    }
  ]
}